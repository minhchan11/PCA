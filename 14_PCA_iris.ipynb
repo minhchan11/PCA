{
 "cells": [
  {
   "cell_type": "markdown",
   "metadata": {},
   "source": [
    "### Principal Component Analysis applied to the Iris dataset"
   ]
  },
  {
   "cell_type": "code",
   "execution_count": 2,
   "metadata": {},
   "outputs": [],
   "source": [
    "%matplotlib inline\n",
    "import pandas as pd\n",
    "import numpy as np\n",
    "import matplotlib.pyplot as plt\n",
    "from mpl_toolkits.mplot3d import Axes3D\n",
    "\n",
    "from sklearn import decomposition\n",
    "from sklearn.model_selection import cross_val_score\n",
    "\n",
    "# increase default figure and font sizes for easier viewing\n",
    "plt.rcParams['figure.figsize'] = (6, 4)\n",
    "plt.rcParams['font.size'] = 14"
   ]
  },
  {
   "cell_type": "code",
   "execution_count": 3,
   "metadata": {},
   "outputs": [],
   "source": [
    "# Load in the data\n",
    "url = 'http://archive.ics.uci.edu/ml/machine-learning-databases/iris/iris.data'\n",
    "col_names = ['sepal_length','sepal_width','petal_length','petal_width', 'species']\n",
    "iris = pd.read_csv(url, header=None, names=col_names)"
   ]
  },
  {
   "cell_type": "code",
   "execution_count": 4,
   "metadata": {},
   "outputs": [
    {
     "data": {
      "text/html": [
       "<div>\n",
       "<style>\n",
       "    .dataframe thead tr:only-child th {\n",
       "        text-align: right;\n",
       "    }\n",
       "\n",
       "    .dataframe thead th {\n",
       "        text-align: left;\n",
       "    }\n",
       "\n",
       "    .dataframe tbody tr th {\n",
       "        vertical-align: top;\n",
       "    }\n",
       "</style>\n",
       "<table border=\"1\" class=\"dataframe\">\n",
       "  <thead>\n",
       "    <tr style=\"text-align: right;\">\n",
       "      <th></th>\n",
       "      <th>sepal_length</th>\n",
       "      <th>sepal_width</th>\n",
       "      <th>petal_length</th>\n",
       "      <th>petal_width</th>\n",
       "    </tr>\n",
       "  </thead>\n",
       "  <tbody>\n",
       "    <tr>\n",
       "      <th>0</th>\n",
       "      <td>5.1</td>\n",
       "      <td>3.5</td>\n",
       "      <td>1.4</td>\n",
       "      <td>0.2</td>\n",
       "    </tr>\n",
       "    <tr>\n",
       "      <th>1</th>\n",
       "      <td>4.9</td>\n",
       "      <td>3.0</td>\n",
       "      <td>1.4</td>\n",
       "      <td>0.2</td>\n",
       "    </tr>\n",
       "    <tr>\n",
       "      <th>2</th>\n",
       "      <td>4.7</td>\n",
       "      <td>3.2</td>\n",
       "      <td>1.3</td>\n",
       "      <td>0.2</td>\n",
       "    </tr>\n",
       "    <tr>\n",
       "      <th>3</th>\n",
       "      <td>4.6</td>\n",
       "      <td>3.1</td>\n",
       "      <td>1.5</td>\n",
       "      <td>0.2</td>\n",
       "    </tr>\n",
       "    <tr>\n",
       "      <th>4</th>\n",
       "      <td>5.0</td>\n",
       "      <td>3.6</td>\n",
       "      <td>1.4</td>\n",
       "      <td>0.2</td>\n",
       "    </tr>\n",
       "  </tbody>\n",
       "</table>\n",
       "</div>"
      ],
      "text/plain": [
       "   sepal_length  sepal_width  petal_length  petal_width\n",
       "0           5.1          3.5           1.4          0.2\n",
       "1           4.9          3.0           1.4          0.2\n",
       "2           4.7          3.2           1.3          0.2\n",
       "3           4.6          3.1           1.5          0.2\n",
       "4           5.0          3.6           1.4          0.2"
      ]
     },
     "execution_count": 4,
     "metadata": {},
     "output_type": "execute_result"
    }
   ],
   "source": [
    "# Create X\n",
    "feature_cols = ['sepal_length', 'sepal_width', 'petal_length', 'petal_width']\n",
    "X = iris[feature_cols]\n",
    "target_names = iris.species\n",
    "X.head()"
   ]
  },
  {
   "cell_type": "code",
   "execution_count": 5,
   "metadata": {
    "collapsed": true
   },
   "outputs": [],
   "source": [
    "# all features and response need to be numbers for scikit-learn\n",
    "# map each iris species to a number\n",
    "iris['species_num'] = iris.species.map({'Iris-setosa':0, 'Iris-versicolor':1, 'Iris-virginica':2})\n",
    "y = iris.species_num"
   ]
  },
  {
   "cell_type": "code",
   "execution_count": 6,
   "metadata": {},
   "outputs": [
    {
     "name": "stdout",
     "output_type": "stream",
     "text": [
      "[[-2.68420713  0.32660731 -0.02151184]\n",
      " [-2.71539062 -0.16955685 -0.20352143]\n",
      " [-2.88981954 -0.13734561  0.02470924]\n",
      " [-2.7464372  -0.31112432  0.03767198]\n",
      " [-2.72859298  0.33392456  0.0962297 ]]\n"
     ]
    }
   ],
   "source": [
    "#Let's reduce it to three components\n",
    "from sklearn import decomposition\n",
    "pca3 = decomposition.PCA(n_components=3)\n",
    "X_trf_3 = pca3.fit_transform(X)\n",
    "print(X_trf_3[0:5])"
   ]
  },
  {
   "cell_type": "code",
   "execution_count": 7,
   "metadata": {},
   "outputs": [
    {
     "data": {
      "text/plain": [
       "array([ 0.92461621,  0.05301557,  0.01718514])"
      ]
     },
     "execution_count": 7,
     "metadata": {},
     "output_type": "execute_result"
    }
   ],
   "source": [
    "pca3.explained_variance_ratio_"
   ]
  },
  {
   "cell_type": "code",
   "execution_count": 8,
   "metadata": {},
   "outputs": [
    {
     "data": {
      "text/plain": [
       "0.99481691454981014"
      ]
     },
     "execution_count": 8,
     "metadata": {},
     "output_type": "execute_result"
    }
   ],
   "source": [
    "pca3.explained_variance_ratio_.sum()"
   ]
  },
  {
   "cell_type": "code",
   "execution_count": 9,
   "metadata": {},
   "outputs": [
    {
     "name": "stdout",
     "output_type": "stream",
     "text": [
      "[ 0.92461621  0.05301557]\n"
     ]
    },
    {
     "data": {
      "text/plain": [
       "0.97763177502480336"
      ]
     },
     "execution_count": 9,
     "metadata": {},
     "output_type": "execute_result"
    }
   ],
   "source": [
    "#Let's reduce it to two components\n",
    "pca2 = decomposition.PCA(n_components=2)\n",
    "X_trf_2 = pca2.fit_transform(X)\n",
    "print (pca2.explained_variance_ratio_)\n",
    "pca2.explained_variance_ratio_.sum()"
   ]
  },
  {
   "cell_type": "code",
   "execution_count": 10,
   "metadata": {},
   "outputs": [
    {
     "name": "stdout",
     "output_type": "stream",
     "text": [
      "[ 0.92461621]\n",
      "0.924616207174\n"
     ]
    }
   ],
   "source": [
    "#Let's reduce it to one components\n",
    "pca1 = decomposition.PCA(n_components=1)\n",
    "X_trf_1 = pca1.fit_transform(X)\n",
    "print (pca1.explained_variance_ratio_)\n",
    "print (pca1.explained_variance_ratio_.sum())"
   ]
  },
  {
   "cell_type": "code",
   "execution_count": 11,
   "metadata": {},
   "outputs": [
    {
     "name": "stdout",
     "output_type": "stream",
     "text": [
      "[ 0.92461621  0.05301557  0.01718514  0.00518309]\n"
     ]
    },
    {
     "data": {
      "text/plain": [
       "1.0"
      ]
     },
     "execution_count": 11,
     "metadata": {},
     "output_type": "execute_result"
    }
   ],
   "source": [
    "#All components (same as the original features)\n",
    "pca_all = decomposition.PCA() # alternate way to use all 4 components: decomposition.PCA(n_components=4)\n",
    "X_trf_all = pca_all.fit_transform(X)\n",
    "print (pca_all.explained_variance_ratio_)\n",
    "pca_all.explained_variance_ratio_.sum()"
   ]
  },
  {
   "cell_type": "code",
   "execution_count": 12,
   "metadata": {
    "scrolled": true
   },
   "outputs": [
    {
     "name": "stdout",
     "output_type": "stream",
     "text": [
      "explained variance ratio (all 4 components):  [ 0.92461621  0.05301557  0.01718514  0.00518309]\n",
      "sum of explained variance ratio (all 4 components):  1.0\n"
     ]
    },
    {
     "data": {
      "text/plain": [
       "<matplotlib.text.Text at 0x11543b128>"
      ]
     },
     "execution_count": 12,
     "metadata": {},
     "output_type": "execute_result"
    },
    {
     "data": {
      "image/png": "[encoded data removed]",
      "text/plain": [
       "<matplotlib.figure.Figure at 0x115420b70>"
      ]
     },
     "metadata": {},
     "output_type": "display_data"
    }
   ],
   "source": [
    "#Choosing components\n",
    "pca4 = decomposition.PCA(n_components=4)\n",
    "X_trf = pca4.fit_transform(X)\n",
    "\n",
    "print ('explained variance ratio (all 4 components): ', pca4.explained_variance_ratio_)\n",
    "print ('sum of explained variance ratio (all 4 components): ', pca4.explained_variance_ratio_.sum())\n",
    "plt.cla()\n",
    "plt.plot(pca4.explained_variance_ratio_)\n",
    "plt.title('Variance explained by each principal component\\n')\n",
    "plt.ylabel(' % Variance Explained')\n",
    "plt.xlabel('Principal component')"
   ]
  },
  {
   "cell_type": "code",
   "execution_count": 13,
   "metadata": {},
   "outputs": [
    {
     "data": {
      "text/plain": [
       "0.95333333333333337"
      ]
     },
     "execution_count": 13,
     "metadata": {},
     "output_type": "execute_result"
    }
   ],
   "source": [
    "from sklearn.linear_model import LogisticRegression\n",
    "logistic = LogisticRegression()\n",
    "log_reg = logistic.fit(X,y)\n",
    "scores = cross_val_score(log_reg, X, y, cv=10, scoring='accuracy')\n",
    "scores.mean()"
   ]
  },
  {
   "cell_type": "code",
   "execution_count": 14,
   "metadata": {},
   "outputs": [
    {
     "data": {
      "text/plain": [
       "0.91333333333333333"
      ]
     },
     "execution_count": 14,
     "metadata": {},
     "output_type": "execute_result"
    }
   ],
   "source": [
    "from sklearn.pipeline import Pipeline\n",
    "pipe_trf_3 = Pipeline([('pca_3', decomposition.PCA(n_components=3)),\n",
    "                 ('logistic', LogisticRegression())])\n",
    "scores_trf_3 = cross_val_score(pipe_trf_3, X, y, cv=10, scoring='accuracy')\n",
    "scores_trf_3.mean()"
   ]
  },
  {
   "cell_type": "code",
   "execution_count": 15,
   "metadata": {},
   "outputs": [
    {
     "data": {
      "text/plain": [
       "0.90000000000000002"
      ]
     },
     "execution_count": 15,
     "metadata": {},
     "output_type": "execute_result"
    }
   ],
   "source": [
    "pipe_trf_2 = Pipeline([('pca_2', decomposition.PCA(n_components=2)),\n",
    "                 ('logistic', LogisticRegression())])\n",
    "scores_trf_2 = cross_val_score(pipe_trf_2, X, y, cv=10, scoring='accuracy')\n",
    "scores_trf_2.mean()"
   ]
  },
  {
   "cell_type": "code",
   "execution_count": 16,
   "metadata": {},
   "outputs": [
    {
     "data": {
      "text/plain": [
       "0.89333333333333331"
      ]
     },
     "execution_count": 16,
     "metadata": {},
     "output_type": "execute_result"
    }
   ],
   "source": [
    "# fits PCA, transforms data, fits the Logistic Regression mode with one component, and scores accuracy\n",
    "# on the transformed data\n",
    "pipe_trf_1 = Pipeline([('pca_1', decomposition.PCA(n_components=1)),\n",
    "                 ('logistic', LogisticRegression())])\n",
    "scores_trf_1 = cross_val_score(pipe_trf_1, X, y, cv=10, scoring='accuracy')\n",
    "scores_trf_1.mean()"
   ]
  },
  {
   "cell_type": "code",
   "execution_count": 22,
   "metadata": {},
   "outputs": [
    {
     "data": {
      "text/plain": [
       "0.90666666666666662"
      ]
     },
     "execution_count": 22,
     "metadata": {},
     "output_type": "execute_result"
    }
   ],
   "source": [
    "pipe_trf_4 = Pipeline([('pca_4', decomposition.PCA()),\n",
    "                 ('logistic', LogisticRegression())])\n",
    "scores_trf_4 = cross_val_score(pipe_trf_4, X, y, cv=10, scoring='accuracy')\n",
    "scores_trf_4.mean() # THIS IS 4"
   ]
  },
  {
   "cell_type": "code",
   "execution_count": 21,
   "metadata": {},
   "outputs": [
    {
     "data": {
      "text/plain": [
       "0.96666666666666679"
      ]
     },
     "execution_count": 21,
     "metadata": {},
     "output_type": "execute_result"
    }
   ],
   "source": [
    "# Turn it back into its 4 components using only 2 principal components\n",
    "X_reconstituted2 = pca2.inverse_transform(X_trf_2)\n",
    "scores_trf_recon2 = cross_val_score(log_reg, X_reconstituted2, y, cv=10, scoring='accuracy')\n",
    "scores_trf_recon2.mean()"
   ]
  },
  {
   "cell_type": "code",
   "execution_count": 23,
   "metadata": {},
   "outputs": [
    {
     "data": {
      "text/plain": [
       "0.92000000000000015"
      ]
     },
     "execution_count": 23,
     "metadata": {},
     "output_type": "execute_result"
    }
   ],
   "source": [
    "# Turn it back into its 4 components using only 1 principal components\n",
    "X_reconstituted1 = pca1.inverse_transform(X_trf_1)\n",
    "scores_trf_recon1 = cross_val_score(log_reg, X_reconstituted1, y, cv=10, scoring='accuracy')\n",
    "scores_trf_recon1.mean()"
   ]
  },
  {
   "cell_type": "code",
   "execution_count": 24,
   "metadata": {},
   "outputs": [
    {
     "data": {
      "text/plain": [
       "0.96666666666666679"
      ]
     },
     "execution_count": 24,
     "metadata": {},
     "output_type": "execute_result"
    }
   ],
   "source": [
    "# Turn it back into its 4 components using only 3 principal components\n",
    "X_reconstituted3 = pca3.inverse_transform(X_trf_3)\n",
    "scores_trf_recon3 = cross_val_score(log_reg, X_reconstituted3, y, cv=10, scoring='accuracy')\n",
    "scores_trf_recon3.mean()"
   ]
  },
  {
   "cell_type": "code",
   "execution_count": 25,
   "metadata": {},
   "outputs": [
    {
     "data": {
      "text/plain": [
       "0.95333333333333337"
      ]
     },
     "execution_count": 25,
     "metadata": {},
     "output_type": "execute_result"
    }
   ],
   "source": [
    "# Turn it back into its 4 components using 4 principal components\n",
    "pca4 = decomposition.PCA(n_components=4)\n",
    "X_trf_4 = pca4.fit_transform(X)\n",
    "pca4.explained_variance_ratio_.sum()\n",
    "X_reconstituted4 = pca4.inverse_transform(X_trf_4)\n",
    "scores_trf_recon4 = cross_val_score(log_reg, X_reconstituted4, y, cv=10, scoring='accuracy')\n",
    "scores_trf_recon4.mean()"
   ]
  },
  {
   "cell_type": "code",
   "execution_count": 27,
   "metadata": {},
   "outputs": [
    {
     "name": "stdout",
     "output_type": "stream",
     "text": [
      "[ 4.87275174  3.27482674  1.45944972  0.23545524]\n",
      "[ 5.08718247  3.51315614  1.4020428   0.21105556]\n",
      "[ 5.09968079  3.50032609  1.40048267  0.19924425]\n",
      "[ 5.1  3.5  1.4  0.2]\n"
     ]
    }
   ],
   "source": [
    "print (X_reconstituted1[0])\n",
    "print (X_reconstituted2[0])\n",
    "print (X_reconstituted3[0])\n",
    "print (X_reconstituted4[0])"
   ]
  },
  {
   "cell_type": "code",
   "execution_count": 30,
   "metadata": {},
   "outputs": [
    {
     "data": {
      "text/plain": [
       "sepal_length    5.1\n",
       "sepal_width     3.5\n",
       "petal_length    1.4\n",
       "petal_width     0.2\n",
       "Name: 0, dtype: float64"
      ]
     },
     "execution_count": 30,
     "metadata": {},
     "output_type": "execute_result"
    }
   ],
   "source": [
    "X.iloc[0]"
   ]
  },
  {
   "cell_type": "code",
   "execution_count": null,
   "metadata": {
    "collapsed": true
   },
   "outputs": [],
   "source": []
  }
 ],
 "metadata": {
  "kernelspec": {
   "display_name": "Python 3",
   "language": "python",
   "name": "python3"
  },
  "language_info": {
   "codemirror_mode": {
    "name": "ipython",
    "version": 3
   },
   "file_extension": ".py",
   "mimetype": "text/x-python",
   "name": "python",
   "nbconvert_exporter": "python",
   "pygments_lexer": "ipython3",
   "version": "3.6.1"
  }
 },
 "nbformat": 4,
 "nbformat_minor": 1
}
